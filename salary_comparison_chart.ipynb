{
 "cells": [
  {
   "cell_type": "markdown",
   "id": "a7948210",
   "metadata": {},
   "source": [
    "\n",
    "# Salary Comparison Chart\n",
    "\n",
    "This notebook creates a bar chart to compare the average salaries of Data Analysts and Business Analysts in the US.\n"
   ]
  },
  {
   "cell_type": "markdown",
   "id": "12090c7b",
   "metadata": {},
   "source": [
    "\n",
    "## Data Preparation\n",
    "\n",
    "The first step is to prepare the data for plotting. We create a simple dataset with the roles and their corresponding average salaries.\n"
   ]
  },
  {
   "cell_type": "code",
   "execution_count": null,
   "id": "adfeb630",
   "metadata": {},
   "outputs": [],
   "source": [
    "\n",
    "import matplotlib.pyplot as plt\n",
    "\n",
    "# Data preparation\n",
    "roles = ['Data Analyst', 'Business Analyst']\n",
    "salaries = [82000, 93043]\n"
   ]
  },
  {
   "cell_type": "markdown",
   "id": "8b67742b",
   "metadata": {},
   "source": [
    "\n",
    "## Initial Plot Creation\n",
    "\n",
    "Next, we create an initial bar chart to visualize the salaries.\n"
   ]
  },
  {
   "cell_type": "code",
   "execution_count": null,
   "id": "64436227",
   "metadata": {},
   "outputs": [],
   "source": [
    "\n",
    "# Creating the initial bar chart\n",
    "plt.figure(figsize=(10, 6))\n",
    "plt.bar(roles, salaries, color=['blue', 'green'])\n",
    "plt.xlabel('Role')\n",
    "plt.ylabel('Average Salary ($)')\n",
    "plt.title('Average Salaries of Data and Business Analysts in the US')\n",
    "plt.ylim(0, 100000)  # Setting y-axis limit\n",
    "plt.grid(axis='y')\n",
    "plt.show()\n"
   ]
  },
  {
   "cell_type": "markdown",
   "id": "1cb3a35e",
   "metadata": {},
   "source": [
    "\n",
    "## Updated Plot\n",
    "\n",
    "Based on further requirements, the plot is updated to remove axis lines, add data labels, increase font sizes, and change bar colors.\n"
   ]
  },
  {
   "cell_type": "code",
   "execution_count": null,
   "id": "f032a533",
   "metadata": {},
   "outputs": [],
   "source": [
    "\n",
    "# Colors for the bars\n",
    "colors = ['lightblue', 'pink']\n",
    "\n",
    "# Creating the bar chart with updated specifications\n",
    "plt.figure(figsize=(10, 6))\n",
    "bars = plt.bar(roles, salaries, color=colors)\n",
    "\n",
    "# Adding data labels\n",
    "for bar in bars:\n",
    "    yval = bar.get_height()\n",
    "    plt.text(bar.get_x() + bar.get_width()/2, yval, int(yval), \n",
    "             va='bottom', ha='center', fontsize=12)\n",
    "\n",
    "# Removing axis lines and grid\n",
    "plt.gca().spines['top'].set_visible(False)\n",
    "plt.gca().spines['right'].set_visible(False)\n",
    "plt.gca().spines['left'].set_visible(False)\n",
    "plt.gca().spines['bottom'].set_visible(False)\n",
    "plt.grid(False)\n",
    "\n",
    "# Increasing font size of axis labels and title\n",
    "plt.xlabel('Role', fontsize=14)\n",
    "plt.ylabel('Average Salary ($)', fontsize=14)\n",
    "plt.title('Average Salaries of Data and Business Analysts in the US', fontsize=16)\n",
    "plt.xticks(fontsize=14)\n",
    "plt.ylim(0, 100000)\n",
    "plt.show()\n"
   ]
  },
  {
   "cell_type": "markdown",
   "id": "c1b6688b",
   "metadata": {},
   "source": [
    "\n",
    "## Final Plot with Y-Axis Units in 'k'\n",
    "\n",
    "In the final step, we modify the y-axis to display units in 'k' for every thousand and increase the font size of the data labels.\n"
   ]
  },
  {
   "cell_type": "code",
   "execution_count": null,
   "id": "1dbaf290",
   "metadata": {},
   "outputs": [],
   "source": [
    "\n",
    "def format_salary(value, tick_number):\n",
    "    # Helper function to format the salary on y-axis\n",
    "    return f'{int(value / 1000)}k'\n",
    "\n",
    "plt.figure(figsize=(10, 6))\n",
    "bars = plt.bar(roles, salaries, color=colors)\n",
    "\n",
    "# Adding data labels with increased font size\n",
    "for bar in bars:\n",
    "    yval = bar.get_height()\n",
    "    plt.text(bar.get_x() + bar.get_width()/2, yval, f'{yval/1000:.0f}k', \n",
    "             va='bottom', ha='center', fontsize=14)\n",
    "\n",
    "# Removing axis and grid lines\n",
    "plt.gca().spines['top'].set_visible(False)\n",
    "plt.gca().spines['right'].set_visible(False)\n",
    "plt.gca().spines['left'].set_visible(False)\n",
    "plt.gca().spines['bottom'].set_visible(False)\n",
    "plt.grid(False)\n",
    "\n",
    "# Setting labels, title, and y-axis format\n",
    "plt.xlabel('Role', fontsize=14)\n",
    "plt.ylabel('Average Salary ($)', fontsize=14)\n",
    "plt.title('Average Salaries of Data and Business Analysts in the US', fontsize=16)\n",
    "plt.xticks(fontsize=14)\n",
    "plt.gca().yaxis.set_major_formatter(plt.FuncFormatter(format_salary))\n",
    "plt.ylim(0, 100000)\n",
    "plt.show()\n"
   ]
  }
 ],
 "metadata": {},
 "nbformat": 4,
 "nbformat_minor": 5
}
